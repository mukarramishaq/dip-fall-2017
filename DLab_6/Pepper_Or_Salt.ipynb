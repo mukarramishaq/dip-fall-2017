{
 "cells": [
  {
   "cell_type": "code",
   "execution_count": null,
   "metadata": {
    "collapsed": true
   },
   "outputs": [],
   "source": [
    "def Pepper_Or_Salt(varargin):\n",
    "    if len(varargin) == 1:\n",
    "        img = varargin(1)\n",
    "        ND = 0.02\n",
    "        type_noise = 3\n",
    "\n",
    "        class_img = img\n",
    "        min_val = 0\n",
    "        if (isa(class_img, mstring('uint8'))):\n",
    "            max_val = 255\n",
    "        else:\n",
    "            max_val = 255\n",
    "    elif len(varargin) < 3:\n",
    "            img = varargin(1)\n",
    "            ND = varargin(2)\n",
    "            type_noise = 3\n",
    "            class_img = img\n",
    "            min_val = 0\n",
    "            if (isa(class_img, mstring('uint8'))):\n",
    "                max_val = 255\n",
    "            else:\n",
    "                max_val = 1\n",
    "    elif len(varargin) == 3:\n",
    "                img = varargin(1)\n",
    "                ND = varargin(2)\n",
    "                type_noise = varargin(3)\n",
    "\n",
    "                class_img = img\n",
    "                min_val = 0\n",
    "                if (isa(class_img, mstring('uint8'))):\n",
    "                    max_val = 255\n",
    "                else:\n",
    "                    max_val = 1\n",
    "    elif len(varargin) == 4:\n",
    "                    img = varargin(1)\n",
    "                    ND = varargin(2)\n",
    "                    type_noise = varargin(3)\n",
    "                    min_val = varargin(4)\n",
    "                    class_img = img\n",
    "                    if (isa(class_img, mstring('uint8'))):\n",
    "                        max_val = 255\n",
    "                    else:\n",
    "                        max_val = 1\n",
    "                    max_val = max(img(mslice[:]))\n",
    "    elif len(varargin) >= 5:\n",
    "                    img = varargin(1)\n",
    "                    ND = varargin(2)\n",
    "                    type_noise = varargin(3)\n",
    "                    min_val = varargin(4)\n",
    "                    max_val = varargin(5)\n",
    "    else:\n",
    "                    disp(mstring('not enough input parameter'))\n",
    "                    img = 0\n",
    "                    return\n",
    "                    end\n",
    "                    Narr = rand(size(img))\n",
    "                    if type_noise == 1:\n",
    "                        img(Narr < ND).lvalue = min_val\n",
    "                    elif type_noise == 2:\n",
    "                        img(Narr < ND).lvalue = max_val\n",
    "                    else:\n",
    "                        img(Narr < ND / 2).lvalue = min_val\n",
    "                        img(logical_and((Narr >= ND / 2), (Narr < ND))).lvalue = max_val"
   ]
  }
 ],
 "metadata": {
  "kernelspec": {
   "display_name": "Python 3",
   "language": "python",
   "name": "python3"
  },
  "language_info": {
   "codemirror_mode": {
    "name": "ipython",
    "version": 3
   },
   "file_extension": ".py",
   "mimetype": "text/x-python",
   "name": "python",
   "nbconvert_exporter": "python",
   "pygments_lexer": "ipython3",
   "version": "3.5.2"
  }
 },
 "nbformat": 4,
 "nbformat_minor": 2
}
